{
 "cells": [
  {
   "cell_type": "code",
   "execution_count": 17,
   "outputs": [],
   "source": [
    "import numpy as np\n",
    "import pandas as pd\n",
    "import pywt\n",
    "import mne\n",
    "import scipy.stats\n",
    "import warnings\n",
    "warnings.filterwarnings('ignore')\n",
    "from collections import Counter\n",
    "from sklearn.ensemble import GradientBoostingClassifier"
   ],
   "metadata": {
    "collapsed": false
   }
  },
  {
   "cell_type": "markdown",
   "source": [
    "Get raw eeg data"
   ],
   "metadata": {
    "collapsed": false
   }
  },
  {
   "cell_type": "code",
   "execution_count": 31,
   "outputs": [
    {
     "name": "stdout",
     "output_type": "stream",
     "text": [
      "Extracting EDF parameters from /Users/tavish/PycharmProjects/eeg_music/ds002721-master/sub-01/eeg/sub-01_task-run4_eeg.edf...\n",
      "EDF file detected\n",
      "Setting channel info structure...\n",
      "Creating raw.info structure...\n",
      "Fitting ICA to data using 19 channels (please be patient, this may take a while)\n",
      "Selecting by number: 19 components\n",
      "Fitting ICA took 11.6s.\n"
     ]
    },
    {
     "data": {
      "text/plain": "<ICA | raw data decomposition, method: fastica (fit in 44 iterations on 518000 samples), 19 ICA components (19 PCA components available), channel types: eeg, no sources marked for exclusion>",
      "text/html": "<table class=\"table table-hover table-striped table-sm table-responsive small\">\n    <tr>\n        <th>Method</th>\n        <td>fastica</td>\n    </tr>\n    <tr>\n        <th>Fit</th>\n        <td>44 iterations on raw data (518000 samples)</td>\n    </tr>\n    \n    <tr>\n        <th>ICA components</th>\n        <td>19</td>\n    </tr>\n    <tr>\n        <th>Available PCA components</th>\n        <td>19</td>\n    </tr>\n    <tr>\n        <th>Channel types</th>\n        <td>eeg</td>\n    </tr>\n    <tr>\n        <th>ICA components marked for exclusion</th>\n        <td>&mdash;</td>\n    </tr>\n    \n</table>"
     },
     "execution_count": 31,
     "metadata": {},
     "output_type": "execute_result"
    }
   ],
   "source": [
    "file_name = 'sub-01/eeg/sub-01_task-run4_eeg.edf'\n",
    "raw_data = mne.io.read_raw_edf(file_name)\n",
    "raw_data.set_montage('standard_1020', match_case=False)\n",
    "ica = mne.preprocessing.ICA(n_components=19, random_state=97, max_iter=800)\n",
    "ica.fit(raw_data)"
   ],
   "metadata": {
    "collapsed": false
   }
  },
  {
   "cell_type": "markdown",
   "source": [
    "Grab times and responses from our data"
   ],
   "metadata": {
    "collapsed": false
   }
  },
  {
   "cell_type": "code",
   "execution_count": 32,
   "outputs": [
    {
     "name": "stdout",
     "output_type": "stream",
     "text": [
      "[5.31, 54.437, 103.196, 160.445, 209.091, 257.294, 319.239, 371.167, 422.713, 469.64]\n",
      "[3, 1, 4, 7, 1, 1, 1, 9, 1, 1]\n"
     ]
    }
   ],
   "source": [
    "file = '/Users/tavish/PycharmProjects/eeg_music/ds002721-master/sub-01/eeg/sub-01_task-run4_events.tsv'\n",
    "events = pd.read_csv(file, sep = '\\t')\n",
    "starts = events[events['trial_type'] == 788]\n",
    "starts = starts.rename_axis('index1').reset_index()\n",
    "responses = []\n",
    "for i in range(starts.shape[0]):\n",
    "    current = starts.iloc[i]['index1']\n",
    "    df_new = events.drop(range(int(current)))[events['trial_type'] == 801].rename_axis('index1').reset_index().iloc[0, 0]\n",
    "    answers = events.drop(range(int(df_new)))[(events['trial_type'] >= 900) & (events['trial_type'] <= 909)].iloc[0, 2]\n",
    "    responses += [answers - 900]\n",
    "start_times = starts['onset'].to_list()\n",
    "print(start_times)\n",
    "print(responses)"
   ],
   "metadata": {
    "collapsed": false
   }
  },
  {
   "cell_type": "markdown",
   "source": [
    "Grab EEG Data for this timestamp\n"
   ],
   "metadata": {
    "collapsed": false
   }
  },
  {
   "cell_type": "code",
   "execution_count": 164,
   "outputs": [
    {
     "data": {
      "text/plain": "[array([-9.72938974e-05, -9.44676215e-05, -9.63875811e-05, -9.81882884e-05,\n        -9.61610020e-05, -9.65664593e-05, -9.79020833e-05, -9.80690363e-05,\n        -9.91303804e-05, -9.98458932e-05, -9.83671666e-05, -9.93331090e-05]),\n array([-9.81167371e-05, -1.00346752e-04, -9.78186068e-05, -9.54216387e-05,\n        -9.74131495e-05, -9.96073889e-05, -1.00966863e-04, -1.01706227e-04,\n        -9.91661560e-05, -9.90469039e-05, -1.00239425e-04, -9.94523612e-05]),\n array([-9.91900064e-05, -9.85937457e-05, -9.84625684e-05, -1.00096323e-04,\n        -9.87249231e-05, -9.70434678e-05, -9.71030939e-05, -9.45272476e-05,\n        -9.37640339e-05, -9.28338672e-05, -9.29769697e-05, -9.68407392e-05]),\n array([-9.00791426e-05, -9.02103200e-05, -9.23687838e-05, -9.37282582e-05,\n        -9.10570102e-05, -9.09973842e-05, -9.25834377e-05, -9.27742411e-05,\n        -9.19275509e-05, -9.22853073e-05, -9.26430637e-05, -9.07350294e-05]),\n array([-8.64419523e-05, -8.88389203e-05, -8.89343221e-05, -8.73601938e-05,\n        -8.78968284e-05, -8.77418006e-05, -8.65373540e-05, -8.71097643e-05,\n        -8.52375056e-05, -8.60007193e-05, -8.70978390e-05, -8.92324524e-05]),\n array([-9.36209313e-05, -9.23687838e-05, -9.08065807e-05, -8.85169396e-05,\n        -8.72767173e-05, -8.74675207e-05, -9.15340188e-05, -9.27265402e-05,\n        -9.58867221e-05, -1.02731795e-04, -9.99651454e-05, -9.90230534e-05]),\n array([-9.44795468e-05, -9.69838418e-05, -9.57913203e-05, -9.09735337e-05,\n        -9.46107241e-05, -9.57436195e-05, -9.45868737e-05, -9.15936449e-05,\n        -9.11524119e-05, -9.32631749e-05, -9.11524119e-05, -9.03176469e-05]),\n array([-9.83910171e-05, -9.87010726e-05, -9.56839934e-05, -9.42887433e-05,\n        -9.68407392e-05, -9.84744936e-05, -9.82479145e-05, -9.72342713e-05,\n        -9.74966260e-05, -9.90946047e-05, -9.97504915e-05, -9.76158781e-05]),\n array([-9.24761107e-05, -9.07231042e-05, -8.87196682e-05, -8.49155248e-05,\n        -8.25304819e-05, -8.33413965e-05, -8.21727255e-05, -8.14929883e-05,\n        -8.07774754e-05, -8.14214370e-05, -7.94060758e-05, -7.96445801e-05]),\n array([-8.29120888e-05, -7.88336655e-05, -7.95134027e-05, -7.67467530e-05,\n        -7.77365457e-05, -7.70329581e-05, -7.92987488e-05, -7.83924325e-05,\n        -8.03362425e-05, -8.13021849e-05, -8.02885416e-05, -8.23516037e-05])]"
     },
     "execution_count": 164,
     "metadata": {},
     "output_type": "execute_result"
    }
   ],
   "source": [
    "eeg_data = []\n",
    "for start_time in start_times:\n",
    "    start = start_time\n",
    "    end = (start_time + 12)\n",
    "    front_1 = raw_data[3, start:end]\n",
    "    #front_2 = raw_data[4, start:end]\n",
    "    eeg_data.append(front_1[0][0])\n",
    "eeg_data"
   ],
   "metadata": {
    "collapsed": false
   }
  },
  {
   "cell_type": "markdown",
   "source": [
    "Label our data"
   ],
   "metadata": {
    "collapsed": false
   }
  },
  {
   "cell_type": "code",
   "execution_count": 166,
   "outputs": [
    {
     "data": {
      "text/plain": "   response                                           eeg_data\n0         3  [-9.729389735099334e-05, -9.446762153996393e-0...\n1         1  [-9.811673714407784e-05, -0.000100346752235480...\n2         4  [-9.919000643940545e-05, -9.8593745719779e-05,...\n3         7  [-9.007914264351324e-05, -9.021032000183106e-0...\n4         1  [-8.644195225379187e-05, -8.883892034669022e-0...\n5         1  [-9.362093131809437e-05, -9.236878380687882e-0...\n6         1  [-9.447954675435647e-05, -9.698384177678759e-0...\n7         9  [-9.8391017075106e-05, -9.870107264931177e-05,...\n8         1  [-9.247611073641158e-05, -9.072310422070981e-0...\n9         1  [-8.291208879360327e-05, -7.883366547135833e-0...",
      "text/html": "<div>\n<style scoped>\n    .dataframe tbody tr th:only-of-type {\n        vertical-align: middle;\n    }\n\n    .dataframe tbody tr th {\n        vertical-align: top;\n    }\n\n    .dataframe thead th {\n        text-align: right;\n    }\n</style>\n<table border=\"1\" class=\"dataframe\">\n  <thead>\n    <tr style=\"text-align: right;\">\n      <th></th>\n      <th>response</th>\n      <th>eeg_data</th>\n    </tr>\n  </thead>\n  <tbody>\n    <tr>\n      <th>0</th>\n      <td>3</td>\n      <td>[-9.729389735099334e-05, -9.446762153996393e-0...</td>\n    </tr>\n    <tr>\n      <th>1</th>\n      <td>1</td>\n      <td>[-9.811673714407784e-05, -0.000100346752235480...</td>\n    </tr>\n    <tr>\n      <th>2</th>\n      <td>4</td>\n      <td>[-9.919000643940545e-05, -9.8593745719779e-05,...</td>\n    </tr>\n    <tr>\n      <th>3</th>\n      <td>7</td>\n      <td>[-9.007914264351324e-05, -9.021032000183106e-0...</td>\n    </tr>\n    <tr>\n      <th>4</th>\n      <td>1</td>\n      <td>[-8.644195225379187e-05, -8.883892034669022e-0...</td>\n    </tr>\n    <tr>\n      <th>5</th>\n      <td>1</td>\n      <td>[-9.362093131809437e-05, -9.236878380687882e-0...</td>\n    </tr>\n    <tr>\n      <th>6</th>\n      <td>1</td>\n      <td>[-9.447954675435647e-05, -9.698384177678759e-0...</td>\n    </tr>\n    <tr>\n      <th>7</th>\n      <td>9</td>\n      <td>[-9.8391017075106e-05, -9.870107264931177e-05,...</td>\n    </tr>\n    <tr>\n      <th>8</th>\n      <td>1</td>\n      <td>[-9.247611073641158e-05, -9.072310422070981e-0...</td>\n    </tr>\n    <tr>\n      <th>9</th>\n      <td>1</td>\n      <td>[-8.291208879360327e-05, -7.883366547135833e-0...</td>\n    </tr>\n  </tbody>\n</table>\n</div>"
     },
     "execution_count": 166,
     "metadata": {},
     "output_type": "execute_result"
    }
   ],
   "source": [
    "a = {'response': responses, 'eeg_data': eeg_data}\n",
    "df = pd.DataFrame(data=a)\n",
    "df.head(10)"
   ],
   "metadata": {
    "collapsed": false
   }
  },
  {
   "cell_type": "markdown",
   "source": [
    "General helper code for retrieving features from our data"
   ],
   "metadata": {
    "collapsed": false
   }
  },
  {
   "cell_type": "code",
   "execution_count": 167,
   "outputs": [],
   "source": [
    "#this cell gives us the features of a particular eeg signal, which is how we analyze it\n",
    "\n",
    "def calculate_entropy(list_values): #this measures the purity of our data, so higher values mean our data is less pure and so we are less likely to draw a good conclusion from it\n",
    "    counter_values = Counter(list_values).most_common()\n",
    "    probabilities = [elem[1]/len(list_values) for elem in counter_values]\n",
    "    entropy=scipy.stats.entropy(probabilities)\n",
    "    return entropy\n",
    "\n",
    "def calculate_statistics(list_values): #this calculates a bunch of statistics for our data, including percentiles, median, mean, standard deviation, variance, and root mean squared\n",
    "    n5 = np.nanpercentile(list_values, 5)\n",
    "    n25 = np.nanpercentile(list_values, 25)\n",
    "    n75 = np.nanpercentile(list_values, 75)\n",
    "    n95 = np.nanpercentile(list_values, 95)\n",
    "    median = np.nanpercentile(list_values, 50)\n",
    "    mean = np.nanmean(list_values)\n",
    "    std = np.nanstd(list_values)\n",
    "    var = np.nanvar(list_values)\n",
    "    rms = np.nanmean(np.sqrt(list_values**2))\n",
    "    return [n5, n25, n75, n95, median, mean, std, var, rms]\n",
    "\n",
    "def calculate_crossings(list_values): #this calculates crossing rates for signals, which is essentially just how quickly our signal changes according to certain metrics(for instance, zero_crossings is how often it changes to zero)\n",
    "    zero_crossing_indices = np.nonzero(np.diff(np.array(list_values) > 0))[0]\n",
    "    no_zero_crossings = len(zero_crossing_indices)\n",
    "    mean_crossing_indices = np.nonzero(np.diff(np.array(list_values) > np.nanmean(list_values)))[0]\n",
    "    no_mean_crossings = len(mean_crossing_indices)\n",
    "    return [no_zero_crossings, no_mean_crossings]\n",
    "\n",
    "def get_features(list_values): #this returns the features of our data, a list of the results from all three of our above functions\n",
    "    entropy = calculate_entropy(list_values)\n",
    "    crossings = calculate_crossings(list_values)\n",
    "    statistics = calculate_statistics(list_values)\n",
    "    return np.array([entropy] + crossings + statistics)"
   ],
   "metadata": {
    "collapsed": false
   }
  },
  {
   "cell_type": "markdown",
   "source": [
    "General code to generate train and test sets"
   ],
   "metadata": {
    "collapsed": false
   }
  },
  {
   "cell_type": "markdown",
   "source": [
    "Generate test and train data specifically for our eeg data"
   ],
   "metadata": {
    "collapsed": false
   }
  },
  {
   "cell_type": "code",
   "execution_count": 193,
   "outputs": [],
   "source": [
    "from sklearn.model_selection import train_test_split\n",
    "test_size = 2\n",
    "X_train, X_test, Y_train, Y_test = train_test_split(df.loc[:, 'eeg_data'], df.loc[:, 'response'],test_size=test_size)\n",
    "X_train = X_train.to_list()\n",
    "Y_train = Y_train.to_list()\n",
    "X_test = X_test.to_list()\n",
    "Y_test = Y_test.to_list()"
   ],
   "metadata": {
    "collapsed": false
   }
  },
  {
   "cell_type": "markdown",
   "source": [
    "Train classifier"
   ],
   "metadata": {
    "collapsed": false
   }
  },
  {
   "cell_type": "code",
   "execution_count": 196,
   "outputs": [
    {
     "data": {
      "text/plain": "GradientBoostingClassifier(n_estimators=10000, random_state=3)",
      "text/html": "<style>#sk-container-id-3 {color: black;background-color: white;}#sk-container-id-3 pre{padding: 0;}#sk-container-id-3 div.sk-toggleable {background-color: white;}#sk-container-id-3 label.sk-toggleable__label {cursor: pointer;display: block;width: 100%;margin-bottom: 0;padding: 0.3em;box-sizing: border-box;text-align: center;}#sk-container-id-3 label.sk-toggleable__label-arrow:before {content: \"▸\";float: left;margin-right: 0.25em;color: #696969;}#sk-container-id-3 label.sk-toggleable__label-arrow:hover:before {color: black;}#sk-container-id-3 div.sk-estimator:hover label.sk-toggleable__label-arrow:before {color: black;}#sk-container-id-3 div.sk-toggleable__content {max-height: 0;max-width: 0;overflow: hidden;text-align: left;background-color: #f0f8ff;}#sk-container-id-3 div.sk-toggleable__content pre {margin: 0.2em;color: black;border-radius: 0.25em;background-color: #f0f8ff;}#sk-container-id-3 input.sk-toggleable__control:checked~div.sk-toggleable__content {max-height: 200px;max-width: 100%;overflow: auto;}#sk-container-id-3 input.sk-toggleable__control:checked~label.sk-toggleable__label-arrow:before {content: \"▾\";}#sk-container-id-3 div.sk-estimator input.sk-toggleable__control:checked~label.sk-toggleable__label {background-color: #d4ebff;}#sk-container-id-3 div.sk-label input.sk-toggleable__control:checked~label.sk-toggleable__label {background-color: #d4ebff;}#sk-container-id-3 input.sk-hidden--visually {border: 0;clip: rect(1px 1px 1px 1px);clip: rect(1px, 1px, 1px, 1px);height: 1px;margin: -1px;overflow: hidden;padding: 0;position: absolute;width: 1px;}#sk-container-id-3 div.sk-estimator {font-family: monospace;background-color: #f0f8ff;border: 1px dotted black;border-radius: 0.25em;box-sizing: border-box;margin-bottom: 0.5em;}#sk-container-id-3 div.sk-estimator:hover {background-color: #d4ebff;}#sk-container-id-3 div.sk-parallel-item::after {content: \"\";width: 100%;border-bottom: 1px solid gray;flex-grow: 1;}#sk-container-id-3 div.sk-label:hover label.sk-toggleable__label {background-color: #d4ebff;}#sk-container-id-3 div.sk-serial::before {content: \"\";position: absolute;border-left: 1px solid gray;box-sizing: border-box;top: 0;bottom: 0;left: 50%;z-index: 0;}#sk-container-id-3 div.sk-serial {display: flex;flex-direction: column;align-items: center;background-color: white;padding-right: 0.2em;padding-left: 0.2em;position: relative;}#sk-container-id-3 div.sk-item {position: relative;z-index: 1;}#sk-container-id-3 div.sk-parallel {display: flex;align-items: stretch;justify-content: center;background-color: white;position: relative;}#sk-container-id-3 div.sk-item::before, #sk-container-id-3 div.sk-parallel-item::before {content: \"\";position: absolute;border-left: 1px solid gray;box-sizing: border-box;top: 0;bottom: 0;left: 50%;z-index: -1;}#sk-container-id-3 div.sk-parallel-item {display: flex;flex-direction: column;z-index: 1;position: relative;background-color: white;}#sk-container-id-3 div.sk-parallel-item:first-child::after {align-self: flex-end;width: 50%;}#sk-container-id-3 div.sk-parallel-item:last-child::after {align-self: flex-start;width: 50%;}#sk-container-id-3 div.sk-parallel-item:only-child::after {width: 0;}#sk-container-id-3 div.sk-dashed-wrapped {border: 1px dashed gray;margin: 0 0.4em 0.5em 0.4em;box-sizing: border-box;padding-bottom: 0.4em;background-color: white;}#sk-container-id-3 div.sk-label label {font-family: monospace;font-weight: bold;display: inline-block;line-height: 1.2em;}#sk-container-id-3 div.sk-label-container {text-align: center;}#sk-container-id-3 div.sk-container {/* jupyter's `normalize.less` sets `[hidden] { display: none; }` but bootstrap.min.css set `[hidden] { display: none !important; }` so we also need the `!important` here to be able to override the default hidden behavior on the sphinx rendered scikit-learn.org. See: https://github.com/scikit-learn/scikit-learn/issues/21755 */display: inline-block !important;position: relative;}#sk-container-id-3 div.sk-text-repr-fallback {display: none;}</style><div id=\"sk-container-id-3\" class=\"sk-top-container\"><div class=\"sk-text-repr-fallback\"><pre>GradientBoostingClassifier(n_estimators=10000, random_state=3)</pre><b>In a Jupyter environment, please rerun this cell to show the HTML representation or trust the notebook. <br />On GitHub, the HTML representation is unable to render, please try loading this page with nbviewer.org.</b></div><div class=\"sk-container\" hidden><div class=\"sk-item\"><div class=\"sk-estimator sk-toggleable\"><input class=\"sk-toggleable__control sk-hidden--visually\" id=\"sk-estimator-id-3\" type=\"checkbox\" checked><label for=\"sk-estimator-id-3\" class=\"sk-toggleable__label sk-toggleable__label-arrow\">GradientBoostingClassifier</label><div class=\"sk-toggleable__content\"><pre>GradientBoostingClassifier(n_estimators=10000, random_state=3)</pre></div></div></div></div></div>"
     },
     "execution_count": 196,
     "metadata": {},
     "output_type": "execute_result"
    }
   ],
   "source": [
    "#this cell trains our classifier on the training data and then tests it on the test data, returning the accuracy. We can mess with the parameters of the classifier as needed\n",
    "cls = GradientBoostingClassifier(n_estimators=10000, random_state=3)\n",
    "cls.fit(X_train, Y_train)"
   ],
   "metadata": {
    "collapsed": false
   }
  },
  {
   "cell_type": "code",
   "execution_count": null,
   "outputs": [],
   "source": [],
   "metadata": {
    "collapsed": false
   }
  },
  {
   "cell_type": "code",
   "execution_count": 197,
   "outputs": [
    {
     "name": "stdout",
     "output_type": "stream",
     "text": [
      "32.0\n"
     ]
    }
   ],
   "source": [
    "guesses = cls.predict(X_test)\n",
    "def score(guesses, real):\n",
    "    return sum((guesses-real)**2)/len(real)\n",
    "print(score(guesses, Y_test)) #score metric is how far we are on average"
   ],
   "metadata": {
    "collapsed": false
   }
  },
  {
   "cell_type": "code",
   "execution_count": null,
   "outputs": [],
   "source": [],
   "metadata": {
    "collapsed": false
   }
  }
 ],
 "metadata": {
  "kernelspec": {
   "display_name": "Python 3",
   "language": "python",
   "name": "python3"
  },
  "language_info": {
   "codemirror_mode": {
    "name": "ipython",
    "version": 2
   },
   "file_extension": ".py",
   "mimetype": "text/x-python",
   "name": "python",
   "nbconvert_exporter": "python",
   "pygments_lexer": "ipython2",
   "version": "2.7.6"
  }
 },
 "nbformat": 4,
 "nbformat_minor": 0
}
